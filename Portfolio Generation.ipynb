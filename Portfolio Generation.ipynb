{
 "cells": [
  {
   "cell_type": "markdown",
   "metadata": {},
   "source": [
    "# Portfolio Generation & Capacity Generation"
   ]
  },
  {
   "cell_type": "code",
   "execution_count": 18,
   "metadata": {},
   "outputs": [],
   "source": [
    "# surgeries_info = {\n",
    "#     \"Tonsillectomy\": {\"duration\": 1,  \"waiting_time\": 14},\n",
    "#     \"ACL Reconstruction\": {\"duration\": 1,\"waiting_time\": 30},\n",
    "#     \"Gastric Bypass\": {\"duration\": 1,\"waiting_time\": 90 },\n",
    "#     \"Mastectomy\": {\"duration\": 1, \"waiting_time\": 21},\n",
    "#     \"Spinal Fusion\": {\"duration\": 1, \"waiting_time\": 60 },\n",
    "#     \"Varicose Vein Surgery\": {\"duration\": 1,  \"waiting_time\": 45 }\n",
    "# }\n",
    "# surgery_counts = {\n",
    "#     \"Tonsillectomy\": 1,\n",
    "#     \"ACL Reconstruction\": 1,\n",
    "#     \"Gastric Bypass\": 1,\n",
    "#     \"Mastectomy\": 1,\n",
    "#     \"Spinal Fusion\": 1,\n",
    "#     \"Varicose Vein Surgery\": 1\n",
    "# }\n",
    "\n",
    "surgeries_info = {\n",
    "    \"Tonsillectomy\": {\"duration\": 1,  \"waiting_time\": 1},\n",
    "    \"ACL Reconstruction\": {\"duration\": 1,\"waiting_time\": 10},\n",
    "    \"Gastric Bypass\": {\"duration\": 1,\"waiting_time\": 10},\n",
    "    \"Mastectomy\": {\"duration\": 1, \"waiting_time\": 21},\n",
    "    \"Spinal Fusion\": {\"duration\": 1, \"waiting_time\": 60 },\n",
    "    \"Varicose Vein Surgery\": {\"duration\": 1,  \"waiting_time\": 45 }\n",
    "}\n",
    "surgery_counts = {\n",
    "    \"Tonsillectomy\": 30,\n",
    "    \"ACL Reconstruction\": 3,\n",
    "    \"Gastric Bypass\": 3,\n",
    "    # \"Mastectomy\": 1,\n",
    "    # \"Spinal Fusion\": 1,\n",
    "    # \"Varicose Vein Surgery\": 1\n",
    "}\n"
   ]
  },
  {
   "cell_type": "code",
   "execution_count": 19,
   "metadata": {},
   "outputs": [
    {
     "name": "stdout",
     "output_type": "stream",
     "text": [
      "Data saved to surgeries_data.csv\n"
     ]
    }
   ],
   "source": [
    "import pandas as pd\n",
    "import random\n",
    "\n",
    "def generate_surgeries_to_csv(surgeries_info, surgery_counts, days_waited_range, filename):\n",
    "    \"\"\"\n",
    "    Generate a CSV file of surgeries with unique IDs, based on specified types and quantities.\n",
    "\n",
    "    Args:\n",
    "        surgeries_info (dict): A dictionary where each key is a surgery type and each value is another dictionary containing\n",
    "                            details about the surgery such as 'duration' (in hours) and 'ideal_waiting_time' (in days).\n",
    "        surgery_counts (dict): A dictionary specifying the number of instances to generate for each surgery type. Keys\n",
    "                            must correspond to keys in the 'surgeries_info' dictionary.\n",
    "        days_waited_range (tuple): A tuple indicating the minimum and maximum days already waited for a surgery. This\n",
    "                                range is used to generate a random 'days_waited' value for each surgery.\n",
    "        filename (str): The filename for the CSV file where the surgery data will be saved. This should include the\n",
    "                        file extension (.csv).\n",
    "\n",
    "    DataFrame Schema:\n",
    "        id (str): A unique identifier for each surgery, formatted as 'S' followed by a number (e.g., \"S1\").\n",
    "        type (str): The type of surgery, matching the keys from the 'surgeries_info' dictionary.\n",
    "        duration (float): The expected duration of the surgery in hours.\n",
    "        ideal_waiting_time (int): The ideal waiting time before the surgery should be performed, in days.\n",
    "        days_waited (int): The actual number of days already waited by the patient, randomly generated within the specified range.\n",
    "\n",
    "    Returns:\n",
    "        None: This function does not return any value. It writes the surgery data directly to a df which is saved to a CSV file specified by\n",
    "            the 'filename' argument.\n",
    "    \"\"\"\n",
    "\n",
    "    surgeries = []\n",
    "    surgery_id = 1\n",
    "\n",
    "    for surgery_type, count in surgery_counts.items():\n",
    "        if surgery_type in surgeries_info:\n",
    "            for _ in range(count):\n",
    "                surgery = {\n",
    "                    \"id\": f\"S{surgery_id}\",\n",
    "                    \"type\": surgery_type,\n",
    "                    \"duration\": surgeries_info[surgery_type][\"duration\"],\n",
    "                    \"ideal_waiting_time\": surgeries_info[surgery_type][\"waiting_time\"],\n",
    "                    \"days_waited\": random.randint(*days_waited_range)\n",
    "                }\n",
    "                surgeries.append(surgery)\n",
    "                surgery_id += 1\n",
    "\n",
    "    # Convert list of dictionaries to DataFrame\n",
    "    df = pd.DataFrame(surgeries)\n",
    "\n",
    "    # Save DataFrame to CSV\n",
    "    df.to_csv(filename, index=False)\n",
    "    print(f\"Data saved to {filename}\")\n",
    "\n",
    "\n",
    "\n",
    "# Generate CSV with the name 'surgeries_data.csv'\n",
    "generate_surgeries_to_csv(surgeries_info, surgery_counts, (0, 0), 'surgeries_data.csv')\n"
   ]
  },
  {
   "cell_type": "code",
   "execution_count": 20,
   "metadata": {},
   "outputs": [
    {
     "name": "stdout",
     "output_type": "stream",
     "text": [
      "Data saved to OR_caps.csv\n"
     ]
    }
   ],
   "source": [
    "import pandas as pd\n",
    "\n",
    "def generate_room_capacities(num_rooms, num_days, hours_per_day, filename):\n",
    "    data = {\n",
    "        'day': [],\n",
    "        'room': [],\n",
    "        'capacity': []\n",
    "    }\n",
    "    \n",
    "    # Assuming the capacity is equal to the hours per day\n",
    "    for day in range(1, num_days):\n",
    "        for room in range(num_rooms):\n",
    "            data['day'].append(day)\n",
    "            data['room'].append(room)\n",
    "            data['capacity'].append(hours_per_day)\n",
    "    \n",
    "    room_capacities = pd.DataFrame(data)\n",
    "    room_capacities.to_csv(filename)\n",
    "    print(f\"Data saved to {filename}\")\n",
    "    \n",
    "\n",
    "num_rooms = 3 \n",
    "num_days = 9\n",
    "hours_per_day = 1\n",
    "\n",
    "room_capacities_df = generate_room_capacities(num_rooms, num_days, hours_per_day,\"OR_caps.csv\")\n",
    "\n"
   ]
  }
 ],
 "metadata": {
  "kernelspec": {
   "display_name": "base",
   "language": "python",
   "name": "python3"
  },
  "language_info": {
   "codemirror_mode": {
    "name": "ipython",
    "version": 3
   },
   "file_extension": ".py",
   "mimetype": "text/x-python",
   "name": "python",
   "nbconvert_exporter": "python",
   "pygments_lexer": "ipython3",
   "version": "3.11.7"
  }
 },
 "nbformat": 4,
 "nbformat_minor": 2
}
